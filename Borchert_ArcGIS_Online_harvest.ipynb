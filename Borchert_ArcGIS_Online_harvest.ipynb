{
 "cells": [
  {
   "cell_type": "code",
   "execution_count": 53,
   "metadata": {},
   "outputs": [],
   "source": [
    "import csv\n",
    "import time\n",
    "import requests\n",
    "from arcgis.gis import GIS\n",
    "from IPython.display import display\n",
    "from pyproj import Proj, transform"
   ]
  },
  {
   "cell_type": "markdown",
   "metadata": {},
   "source": [
    "### STEP 1. Find all data links from search result"
   ]
  },
  {
   "cell_type": "code",
   "execution_count": 16,
   "metadata": {},
   "outputs": [],
   "source": [
    "search_url = 'https://umn.maps.arcgis.com/home/search.html?q=owner%3A%22mapref_umn%22'\n",
    "search_page = urllib.request.urlopen(search_url).read()\n",
    "soup = BeautifulSoup(search_page, \"html.parser\")"
   ]
  },
  {
   "cell_type": "code",
   "execution_count": 65,
   "metadata": {
    "scrolled": true
   },
   "outputs": [],
   "source": [
    "gis = GIS()\n",
    "search_result = gis.content.search(query=\"owner:mapref_umn\", \n",
    "                                   item_type=\"*\",\n",
    "                                   max_items = 100)"
   ]
  },
  {
   "cell_type": "markdown",
   "metadata": {},
   "source": [
    "### STEP 2. Extract metadata from each content page"
   ]
  },
  {
   "cell_type": "code",
   "execution_count": 54,
   "metadata": {},
   "outputs": [],
   "source": [
    "# transform coordinates from projected coordinates to geographic coordinates\n",
    "def convert_coords(extent):\n",
    "    # spatial reference\n",
    "    wkid = extent['spatialReference']['latestWkid']\n",
    "    inProj = Proj(init='epsg:{}'.format(wkid))\n",
    "    outProj = Proj(init='epsg:4326')   # WGS84\n",
    "    \n",
    "    x1 = extent['xmin']\n",
    "    y1 = extent['ymin']\n",
    "    x2 = extent['xmax']\n",
    "    y2 = extent['ymax']\n",
    "    \n",
    "    xmin, ymin = transform(inProj, outProj, x1, y1)\n",
    "    xmax, ymax = transform(inProj, outProj, x2, y2)\n",
    "    \n",
    "    return '{},{},{},{}'.format(round(xmin,4),round(ymin,4),round(xmax,4),round(ymax,4))"
   ]
  },
  {
   "cell_type": "code",
   "execution_count": 57,
   "metadata": {},
   "outputs": [],
   "source": [
    "# convert file size from integer in bytes to a human readable string\n",
    "def convert_bytes(size):\n",
    "    for x in ['bytes', 'KB', 'MB', 'GB', 'TB']:\n",
    "        if size < 1024.0:\n",
    "            return \"%3.1f %s\" % (size, x)\n",
    "        size /= 1024.0\n",
    "\n",
    "    return size"
   ]
  },
  {
   "cell_type": "code",
   "execution_count": 63,
   "metadata": {},
   "outputs": [],
   "source": [
    "def construct_metadata(item_id):  \n",
    "    # load content page\n",
    "    gis = GIS()\n",
    "    content = gis.content.get(item_id)\n",
    "    display(content)\n",
    "    \n",
    "    # extract values from arcgis online\n",
    "    title = alternativeTitle = content.title\n",
    "    description = content.snippet\n",
    "    language = 'eng'\n",
    "    creator = content.owner\n",
    "    resourceClass = 'Datasets'  #?\n",
    "    isoTopCat = ''\n",
    "    keyword = '|'.join(content.tags)\n",
    "    dateIssued = time.strftime('%Y-%m-%d',time.localtime(content.created/1000))\n",
    "    temporalCoverage = ''\n",
    "    dateRange = ''\n",
    "    resourceType = 'Vector data'\n",
    "    formatElement = 'Shapefile'\n",
    "    information = 'https://iu.maps.arcgis.com/home/item.html?id='+content.id\n",
    "    downloadURL = ''\n",
    "    mapServer = content.url\n",
    "    featureServer = ''\n",
    "    imageServer = ''\n",
    "    idElement = item_id\n",
    "    identifier = information\n",
    "    provider = 'University of Minnesota'\n",
    "    code = '05 xxx ?'\n",
    "    memberOf = code\n",
    "    status = 'Active'\n",
    "    accrualMethod = 'ArcGIS Python API'\n",
    "    dateAccessioned = time.strftime(\"%Y-%m-%d\")\n",
    "    rights = ''\n",
    "    accessRights = 'Public'\n",
    "    suppressed = 'FALSE'\n",
    "    child = 'FALSE'\n",
    "    fileSize = convert_bytes(content.size)\n",
    "        \n",
    "    # extract spatial values from ArcGIS REST API\n",
    "    try:\n",
    "        q = content.url + '?f=pjson'\n",
    "        response = requests.get(q)\n",
    "        data = response.json()\n",
    "\n",
    "        extent = data['fullExtent']\n",
    "        bbox = convert_coords(extent)\n",
    "        spatialCoverage = '?'   # ?\n",
    "    except:\n",
    "        bbox = ''\n",
    "        spatialCoverage = ''\n",
    "\n",
    "   \n",
    "    metadata = [title, alternativeTitle, description, language, creator, \n",
    "            resourceClass, isoTopCat, keyword, dateIssued, temporalCoverage,\n",
    "            dateRange, spatialCoverage, bbox, resourceType,\n",
    "            formatElement, information, downloadURL, mapServer, featureServer,\n",
    "            imageServer, idElement, identifier, provider, code, memberOf, status,\n",
    "            accrualMethod, dateAccessioned, rights, accessRights, suppressed, child, fileSize]\n",
    "    \n",
    "    return metadata\n",
    "    \n",
    "\n"
   ]
  },
  {
   "cell_type": "code",
   "execution_count": 64,
   "metadata": {
    "scrolled": false
   },
   "outputs": [
    {
     "data": {
      "text/html": [
       "<div class=\"item_container\" style=\"height: auto; overflow: hidden; border: 1px solid #cfcfcf; border-radius: 2px; background: #f6fafa; line-height: 1.21429em; padding: 10px;\">\n",
       "                    <div class=\"item_left\" style=\"width: 210px; float: left;\">\n",
       "                       <a href='https://www.arcgis.com/home/item.html?id=63bffb1ac4a34be694a08f3d98b5292e' target='_blank'>\n",
       "                        <img src='https://www.arcgis.com/sharing/rest//content/items/63bffb1ac4a34be694a08f3d98b5292e/info/thumbnail/ago_downloaded.png' class=\"itemThumbnail\">\n",
       "                       </a>\n",
       "                    </div>\n",
       "\n",
       "                    <div class=\"item_right\"     style=\"float: none; width: auto; overflow: hidden;\">\n",
       "                        <a href='https://www.arcgis.com/home/item.html?id=63bffb1ac4a34be694a08f3d98b5292e' target='_blank'><b>Aerials_1966-StarTribune</b>\n",
       "                        </a>\n",
       "                        <br/><img src='https://www.arcgis.com/home/js/jsapi/esri/css/images/item_type_icons/maps16.png' style=\"vertical-align:middle;\">Web Map by mapref_UMN\n",
       "                        <br/>Last Modified: November 27, 2018\n",
       "                        <br/>0 comments, 8,668 views\n",
       "                    </div>\n",
       "                </div>\n",
       "                "
      ],
      "text/plain": [
       "<Item title:\"Aerials_1966-StarTribune\" type:Web Map owner:mapref_UMN>"
      ]
     },
     "metadata": {},
     "output_type": "display_data"
    },
    {
     "data": {
      "text/html": [
       "<div class=\"item_container\" style=\"height: auto; overflow: hidden; border: 1px solid #cfcfcf; border-radius: 2px; background: #f6fafa; line-height: 1.21429em; padding: 10px;\">\n",
       "                    <div class=\"item_left\" style=\"width: 210px; float: left;\">\n",
       "                       <a href='https://www.arcgis.com/home/item.html?id=8feb2e1f79ec4a8a8e645986e1c5c983' target='_blank'>\n",
       "                        <img src='https://www.arcgis.com/sharing/rest//content/items/8feb2e1f79ec4a8a8e645986e1c5c983/info/thumbnail/ago_downloaded.png' class=\"itemThumbnail\">\n",
       "                       </a>\n",
       "                    </div>\n",
       "\n",
       "                    <div class=\"item_right\"     style=\"float: none; width: auto; overflow: hidden;\">\n",
       "                        <a href='https://www.arcgis.com/home/item.html?id=8feb2e1f79ec4a8a8e645986e1c5c983' target='_blank'><b>Minnesota Aerial Imagery 2019</b>\n",
       "                        </a>\n",
       "                        <br/>2019 National Agriculture Imagery Program (NAIP) Imagery, Minnesota<img src='https://www.arcgis.com/home/js/jsapi/esri/css/images/item_type_icons/maps16.png' style=\"vertical-align:middle;\">Web Map by mapref_UMN\n",
       "                        <br/>Last Modified: October 12, 2020\n",
       "                        <br/>0 comments, 224 views\n",
       "                    </div>\n",
       "                </div>\n",
       "                "
      ],
      "text/plain": [
       "<Item title:\"Minnesota Aerial Imagery 2019\" type:Web Map owner:mapref_UMN>"
      ]
     },
     "metadata": {},
     "output_type": "display_data"
    },
    {
     "data": {
      "text/html": [
       "<div class=\"item_container\" style=\"height: auto; overflow: hidden; border: 1px solid #cfcfcf; border-radius: 2px; background: #f6fafa; line-height: 1.21429em; padding: 10px;\">\n",
       "                    <div class=\"item_left\" style=\"width: 210px; float: left;\">\n",
       "                       <a href='https://www.arcgis.com/home/item.html?id=77b5d6b348834ad2ad8bbc91218bc4be' target='_blank'>\n",
       "                        <img src='https://www.arcgis.com/sharing/rest//content/items/77b5d6b348834ad2ad8bbc91218bc4be/info/thumbnail/eastman.PNG' class=\"itemThumbnail\">\n",
       "                       </a>\n",
       "                    </div>\n",
       "\n",
       "                    <div class=\"item_right\"     style=\"float: none; width: auto; overflow: hidden;\">\n",
       "                        <a href='https://www.arcgis.com/home/item.html?id=77b5d6b348834ad2ad8bbc91218bc4be' target='_blank'><b>Eastman Tunnel Collapse</b>\n",
       "                        </a>\n",
       "                        <br/><img src='https://www.arcgis.com/home/js/jsapi/esri/css/images/item_type_icons/layers16.png' style=\"vertical-align:middle;\">Web Mapping Application by mapref_UMN\n",
       "                        <br/>Last Modified: May 19, 2016\n",
       "                        <br/>0 comments, 3,888 views\n",
       "                    </div>\n",
       "                </div>\n",
       "                "
      ],
      "text/plain": [
       "<Item title:\"Eastman Tunnel Collapse\" type:Web Mapping Application owner:mapref_UMN>"
      ]
     },
     "metadata": {},
     "output_type": "display_data"
    },
    {
     "data": {
      "text/html": [
       "<div class=\"item_container\" style=\"height: auto; overflow: hidden; border: 1px solid #cfcfcf; border-radius: 2px; background: #f6fafa; line-height: 1.21429em; padding: 10px;\">\n",
       "                    <div class=\"item_left\" style=\"width: 210px; float: left;\">\n",
       "                       <a href='https://www.arcgis.com/home/item.html?id=8f34d82d4d8b4054b6d166668284362b' target='_blank'>\n",
       "                        <img src='https://www.arcgis.com/sharing/rest//content/items/8f34d82d4d8b4054b6d166668284362b/info/thumbnail/ago_downloaded.png' class=\"itemThumbnail\">\n",
       "                       </a>\n",
       "                    </div>\n",
       "\n",
       "                    <div class=\"item_right\"     style=\"float: none; width: auto; overflow: hidden;\">\n",
       "                        <a href='https://www.arcgis.com/home/item.html?id=8f34d82d4d8b4054b6d166668284362b' target='_blank'><b>Aerials_1956</b>\n",
       "                        </a>\n",
       "                        <br/><img src='https://www.arcgis.com/home/js/jsapi/esri/css/images/item_type_icons/maps16.png' style=\"vertical-align:middle;\">Web Map by mapref_UMN\n",
       "                        <br/>Last Modified: November 27, 2018\n",
       "                        <br/>0 comments, 313 views\n",
       "                    </div>\n",
       "                </div>\n",
       "                "
      ],
      "text/plain": [
       "<Item title:\"Aerials_1956\" type:Web Map owner:mapref_UMN>"
      ]
     },
     "metadata": {},
     "output_type": "display_data"
    },
    {
     "data": {
      "text/html": [
       "<div class=\"item_container\" style=\"height: auto; overflow: hidden; border: 1px solid #cfcfcf; border-radius: 2px; background: #f6fafa; line-height: 1.21429em; padding: 10px;\">\n",
       "                    <div class=\"item_left\" style=\"width: 210px; float: left;\">\n",
       "                       <a href='https://www.arcgis.com/home/item.html?id=c7c29dfb7c094dfcb9c3c61ca6efdd07' target='_blank'>\n",
       "                        <img src='https://www.arcgis.com/sharing/rest//content/items/c7c29dfb7c094dfcb9c3c61ca6efdd07/info/thumbnail/thumbnail.png' class=\"itemThumbnail\">\n",
       "                       </a>\n",
       "                    </div>\n",
       "\n",
       "                    <div class=\"item_right\"     style=\"float: none; width: auto; overflow: hidden;\">\n",
       "                        <a href='https://www.arcgis.com/home/item.html?id=c7c29dfb7c094dfcb9c3c61ca6efdd07' target='_blank'><b>Joy_Pain_Service</b>\n",
       "                        </a>\n",
       "                        <br/>Tracking features for the joy/pain map<img src='https://www.arcgis.com/home/js/jsapi/esri/css/images/item_type_icons/featureshosted16.png' style=\"vertical-align:middle;\">Feature Layer Collection by mapref_UMN\n",
       "                        <br/>Last Modified: December 31, 2015\n",
       "                        <br/>0 comments, 72 views\n",
       "                    </div>\n",
       "                </div>\n",
       "                "
      ],
      "text/plain": [
       "<Item title:\"Joy_Pain_Service\" type:Feature Layer Collection owner:mapref_UMN>"
      ]
     },
     "metadata": {},
     "output_type": "display_data"
    },
    {
     "data": {
      "text/html": [
       "<div class=\"item_container\" style=\"height: auto; overflow: hidden; border: 1px solid #cfcfcf; border-radius: 2px; background: #f6fafa; line-height: 1.21429em; padding: 10px;\">\n",
       "                    <div class=\"item_left\" style=\"width: 210px; float: left;\">\n",
       "                       <a href='https://www.arcgis.com/home/item.html?id=b1a556e0fa404c90a79f45fbdd94214c' target='_blank'>\n",
       "                        <img src='https://www.arcgis.com/sharing/rest//content/items/b1a556e0fa404c90a79f45fbdd94214c/info/thumbnail/ago_downloaded.png' class=\"itemThumbnail\">\n",
       "                       </a>\n",
       "                    </div>\n",
       "\n",
       "                    <div class=\"item_right\"     style=\"float: none; width: auto; overflow: hidden;\">\n",
       "                        <a href='https://www.arcgis.com/home/item.html?id=b1a556e0fa404c90a79f45fbdd94214c' target='_blank'><b>Twin Cities Historical Aerial Mosaic - Rondo Focus</b>\n",
       "                        </a>\n",
       "                        <br/><img src='https://www.arcgis.com/home/js/jsapi/esri/css/images/item_type_icons/layers16.png' style=\"vertical-align:middle;\">Web Mapping Application by mapref_UMN\n",
       "                        <br/>Last Modified: September 24, 2018\n",
       "                        <br/>0 comments, 132 views\n",
       "                    </div>\n",
       "                </div>\n",
       "                "
      ],
      "text/plain": [
       "<Item title:\"Twin Cities Historical Aerial Mosaic - Rondo Focus\" type:Web Mapping Application owner:mapref_UMN>"
      ]
     },
     "metadata": {},
     "output_type": "display_data"
    },
    {
     "data": {
      "text/html": [
       "<div class=\"item_container\" style=\"height: auto; overflow: hidden; border: 1px solid #cfcfcf; border-radius: 2px; background: #f6fafa; line-height: 1.21429em; padding: 10px;\">\n",
       "                    <div class=\"item_left\" style=\"width: 210px; float: left;\">\n",
       "                       <a href='https://www.arcgis.com/home/item.html?id=e5c6d99fae7c468c8f6d70cf18c1617e' target='_blank'>\n",
       "                        <img src='https://www.arcgis.com/sharing/rest//content/items/e5c6d99fae7c468c8f6d70cf18c1617e/info/thumbnail/ago_downloaded.png' class=\"itemThumbnail\">\n",
       "                       </a>\n",
       "                    </div>\n",
       "\n",
       "                    <div class=\"item_right\"     style=\"float: none; width: auto; overflow: hidden;\">\n",
       "                        <a href='https://www.arcgis.com/home/item.html?id=e5c6d99fae7c468c8f6d70cf18c1617e' target='_blank'><b>1956 Twin Cities Historic Aerials </b>\n",
       "                        </a>\n",
       "                        <br/><img src='https://www.arcgis.com/home/js/jsapi/esri/css/images/item_type_icons/layers16.png' style=\"vertical-align:middle;\">Web Mapping Application by mapref_UMN\n",
       "                        <br/>Last Modified: October 26, 2016\n",
       "                        <br/>0 comments, 288 views\n",
       "                    </div>\n",
       "                </div>\n",
       "                "
      ],
      "text/plain": [
       "<Item title:\"1956 Twin Cities Historic Aerials \" type:Web Mapping Application owner:mapref_UMN>"
      ]
     },
     "metadata": {},
     "output_type": "display_data"
    },
    {
     "data": {
      "text/html": [
       "<div class=\"item_container\" style=\"height: auto; overflow: hidden; border: 1px solid #cfcfcf; border-radius: 2px; background: #f6fafa; line-height: 1.21429em; padding: 10px;\">\n",
       "                    <div class=\"item_left\" style=\"width: 210px; float: left;\">\n",
       "                       <a href='https://www.arcgis.com/home/item.html?id=cfa24a93dc714a859fcd69c2632ade91' target='_blank'>\n",
       "                        <img src='https://www.arcgis.com/sharing/rest//content/items/cfa24a93dc714a859fcd69c2632ade91/info/thumbnail/ago_downloaded.png' class=\"itemThumbnail\">\n",
       "                       </a>\n",
       "                    </div>\n",
       "\n",
       "                    <div class=\"item_right\"     style=\"float: none; width: auto; overflow: hidden;\">\n",
       "                        <a href='https://www.arcgis.com/home/item.html?id=cfa24a93dc714a859fcd69c2632ade91' target='_blank'><b>Twin Cities 1888</b>\n",
       "                        </a>\n",
       "                        <br/><img src='https://www.arcgis.com/home/js/jsapi/esri/css/images/item_type_icons/maps16.png' style=\"vertical-align:middle;\">Web Map by mapref_UMN\n",
       "                        <br/>Last Modified: March 03, 2019\n",
       "                        <br/>0 comments, 205 views\n",
       "                    </div>\n",
       "                </div>\n",
       "                "
      ],
      "text/plain": [
       "<Item title:\"Twin Cities 1888\" type:Web Map owner:mapref_UMN>"
      ]
     },
     "metadata": {},
     "output_type": "display_data"
    },
    {
     "data": {
      "text/html": [
       "<div class=\"item_container\" style=\"height: auto; overflow: hidden; border: 1px solid #cfcfcf; border-radius: 2px; background: #f6fafa; line-height: 1.21429em; padding: 10px;\">\n",
       "                    <div class=\"item_left\" style=\"width: 210px; float: left;\">\n",
       "                       <a href='https://www.arcgis.com/home/item.html?id=f8b24666435f4c3ea0a14217cbd4d9cd' target='_blank'>\n",
       "                        <img src='https://www.arcgis.com/sharing/rest//content/items/f8b24666435f4c3ea0a14217cbd4d9cd/info/thumbnail/ago_downloaded.png' class=\"itemThumbnail\">\n",
       "                       </a>\n",
       "                    </div>\n",
       "\n",
       "                    <div class=\"item_right\"     style=\"float: none; width: auto; overflow: hidden;\">\n",
       "                        <a href='https://www.arcgis.com/home/item.html?id=f8b24666435f4c3ea0a14217cbd4d9cd' target='_blank'><b>1966 Twin Cities Historical Aerial Photograph Mosaic</b>\n",
       "                        </a>\n",
       "                        <br/><img src='https://www.arcgis.com/home/js/jsapi/esri/css/images/item_type_icons/layers16.png' style=\"vertical-align:middle;\">Web Mapping Application by mapref_UMN\n",
       "                        <br/>Last Modified: May 23, 2017\n",
       "                        <br/>0 comments, 8,573 views\n",
       "                    </div>\n",
       "                </div>\n",
       "                "
      ],
      "text/plain": [
       "<Item title:\"1966 Twin Cities Historical Aerial Photograph Mosaic\" type:Web Mapping Application owner:mapref_UMN>"
      ]
     },
     "metadata": {},
     "output_type": "display_data"
    },
    {
     "data": {
      "text/html": [
       "<div class=\"item_container\" style=\"height: auto; overflow: hidden; border: 1px solid #cfcfcf; border-radius: 2px; background: #f6fafa; line-height: 1.21429em; padding: 10px;\">\n",
       "                    <div class=\"item_left\" style=\"width: 210px; float: left;\">\n",
       "                       <a href='https://www.arcgis.com/home/item.html?id=1048601263174395993d0f3f43a91bec' target='_blank'>\n",
       "                        <img src='https://www.arcgis.com/sharing/rest//content/items/1048601263174395993d0f3f43a91bec/info/thumbnail/ago_downloaded.png' class=\"itemThumbnail\">\n",
       "                       </a>\n",
       "                    </div>\n",
       "\n",
       "                    <div class=\"item_right\"     style=\"float: none; width: auto; overflow: hidden;\">\n",
       "                        <a href='https://www.arcgis.com/home/item.html?id=1048601263174395993d0f3f43a91bec' target='_blank'><b>PurpleMap-Mural Locations</b>\n",
       "                        </a>\n",
       "                        <br/><img src='https://www.arcgis.com/home/js/jsapi/esri/css/images/item_type_icons/maps16.png' style=\"vertical-align:middle;\">Web Map by mapref_UMN\n",
       "                        <br/>Last Modified: November 19, 2018\n",
       "                        <br/>0 comments, 354 views\n",
       "                    </div>\n",
       "                </div>\n",
       "                "
      ],
      "text/plain": [
       "<Item title:\"PurpleMap-Mural Locations\" type:Web Map owner:mapref_UMN>"
      ]
     },
     "metadata": {},
     "output_type": "display_data"
    },
    {
     "data": {
      "text/html": [
       "<div class=\"item_container\" style=\"height: auto; overflow: hidden; border: 1px solid #cfcfcf; border-radius: 2px; background: #f6fafa; line-height: 1.21429em; padding: 10px;\">\n",
       "                    <div class=\"item_left\" style=\"width: 210px; float: left;\">\n",
       "                       <a href='https://www.arcgis.com/home/item.html?id=1c32d10185334ff798ba23a2669855ab' target='_blank'>\n",
       "                        <img src='https://www.arcgis.com/sharing/rest//content/items/1c32d10185334ff798ba23a2669855ab/info/thumbnail/ago_downloaded.png' class=\"itemThumbnail\">\n",
       "                       </a>\n",
       "                    </div>\n",
       "\n",
       "                    <div class=\"item_right\"     style=\"float: none; width: auto; overflow: hidden;\">\n",
       "                        <a href='https://www.arcgis.com/home/item.html?id=1c32d10185334ff798ba23a2669855ab' target='_blank'><b>PurpleMap-ChurchSchoolHospital</b>\n",
       "                        </a>\n",
       "                        <br/><img src='https://www.arcgis.com/home/js/jsapi/esri/css/images/item_type_icons/maps16.png' style=\"vertical-align:middle;\">Web Map by mapref_UMN\n",
       "                        <br/>Last Modified: November 19, 2018\n",
       "                        <br/>0 comments, 287 views\n",
       "                    </div>\n",
       "                </div>\n",
       "                "
      ],
      "text/plain": [
       "<Item title:\"PurpleMap-ChurchSchoolHospital\" type:Web Map owner:mapref_UMN>"
      ]
     },
     "metadata": {},
     "output_type": "display_data"
    },
    {
     "data": {
      "text/html": [
       "<div class=\"item_container\" style=\"height: auto; overflow: hidden; border: 1px solid #cfcfcf; border-radius: 2px; background: #f6fafa; line-height: 1.21429em; padding: 10px;\">\n",
       "                    <div class=\"item_left\" style=\"width: 210px; float: left;\">\n",
       "                       <a href='https://www.arcgis.com/home/item.html?id=11a530ddf2e34bd9b1495b4c3cc13707' target='_blank'>\n",
       "                        <img src='https://www.arcgis.com/sharing/rest//content/items/11a530ddf2e34bd9b1495b4c3cc13707/info/thumbnail/thumbnail.png' class=\"itemThumbnail\">\n",
       "                       </a>\n",
       "                    </div>\n",
       "\n",
       "                    <div class=\"item_right\"     style=\"float: none; width: auto; overflow: hidden;\">\n",
       "                        <a href='https://www.arcgis.com/home/item.html?id=11a530ddf2e34bd9b1495b4c3cc13707' target='_blank'><b>MN_WildRice_LakesRivers</b>\n",
       "                        </a>\n",
       "                        <br/>Wild Rice Lakes Identified by DNR Wildlife\n",
       "<img src='https://www.arcgis.com/home/js/jsapi/esri/css/images/item_type_icons/featureshosted16.png' style=\"vertical-align:middle;\">Feature Layer Collection by mapref_UMN\n",
       "                        <br/>Last Modified: January 11, 2018\n",
       "                        <br/>0 comments, 858 views\n",
       "                    </div>\n",
       "                </div>\n",
       "                "
      ],
      "text/plain": [
       "<Item title:\"MN_WildRice_LakesRivers\" type:Feature Layer Collection owner:mapref_UMN>"
      ]
     },
     "metadata": {},
     "output_type": "display_data"
    },
    {
     "data": {
      "text/html": [
       "<div class=\"item_container\" style=\"height: auto; overflow: hidden; border: 1px solid #cfcfcf; border-radius: 2px; background: #f6fafa; line-height: 1.21429em; padding: 10px;\">\n",
       "                    <div class=\"item_left\" style=\"width: 210px; float: left;\">\n",
       "                       <a href='https://www.arcgis.com/home/item.html?id=f1aabb89ff444b8aaecc1323db1e4775' target='_blank'>\n",
       "                        <img src='https://www.arcgis.com/sharing/rest//content/items/f1aabb89ff444b8aaecc1323db1e4775/info/thumbnail/ago_downloaded.png' class=\"itemThumbnail\">\n",
       "                       </a>\n",
       "                    </div>\n",
       "\n",
       "                    <div class=\"item_right\"     style=\"float: none; width: auto; overflow: hidden;\">\n",
       "                        <a href='https://www.arcgis.com/home/item.html?id=f1aabb89ff444b8aaecc1323db1e4775' target='_blank'><b>PurpleMap-Residences</b>\n",
       "                        </a>\n",
       "                        <br/><img src='https://www.arcgis.com/home/js/jsapi/esri/css/images/item_type_icons/maps16.png' style=\"vertical-align:middle;\">Web Map by mapref_UMN\n",
       "                        <br/>Last Modified: November 19, 2018\n",
       "                        <br/>0 comments, 1,703 views\n",
       "                    </div>\n",
       "                </div>\n",
       "                "
      ],
      "text/plain": [
       "<Item title:\"PurpleMap-Residences\" type:Web Map owner:mapref_UMN>"
      ]
     },
     "metadata": {},
     "output_type": "display_data"
    },
    {
     "data": {
      "text/html": [
       "<div class=\"item_container\" style=\"height: auto; overflow: hidden; border: 1px solid #cfcfcf; border-radius: 2px; background: #f6fafa; line-height: 1.21429em; padding: 10px;\">\n",
       "                    <div class=\"item_left\" style=\"width: 210px; float: left;\">\n",
       "                       <a href='https://www.arcgis.com/home/item.html?id=49dd06cded1d4af6ba417b4730d47bd5' target='_blank'>\n",
       "                        <img src='https://www.arcgis.com/sharing/rest//content/items/49dd06cded1d4af6ba417b4730d47bd5/info/thumbnail/ago_downloaded.png' class=\"itemThumbnail\">\n",
       "                       </a>\n",
       "                    </div>\n",
       "\n",
       "                    <div class=\"item_right\"     style=\"float: none; width: auto; overflow: hidden;\">\n",
       "                        <a href='https://www.arcgis.com/home/item.html?id=49dd06cded1d4af6ba417b4730d47bd5' target='_blank'><b>PurpleMap</b>\n",
       "                        </a>\n",
       "                        <br/><img src='https://www.arcgis.com/home/js/jsapi/esri/css/images/item_type_icons/maps16.png' style=\"vertical-align:middle;\">Web Map by mapref_UMN\n",
       "                        <br/>Last Modified: November 19, 2018\n",
       "                        <br/>0 comments, 1,962 views\n",
       "                    </div>\n",
       "                </div>\n",
       "                "
      ],
      "text/plain": [
       "<Item title:\"PurpleMap\" type:Web Map owner:mapref_UMN>"
      ]
     },
     "metadata": {},
     "output_type": "display_data"
    },
    {
     "data": {
      "text/html": [
       "<div class=\"item_container\" style=\"height: auto; overflow: hidden; border: 1px solid #cfcfcf; border-radius: 2px; background: #f6fafa; line-height: 1.21429em; padding: 10px;\">\n",
       "                    <div class=\"item_left\" style=\"width: 210px; float: left;\">\n",
       "                       <a href='https://www.arcgis.com/home/item.html?id=fa467f63e21641869a272b584ad0b047' target='_blank'>\n",
       "                        <img src='https://www.arcgis.com/sharing/rest//content/items/fa467f63e21641869a272b584ad0b047/info/thumbnail/ago_downloaded.png' class=\"itemThumbnail\">\n",
       "                       </a>\n",
       "                    </div>\n",
       "\n",
       "                    <div class=\"item_right\"     style=\"float: none; width: auto; overflow: hidden;\">\n",
       "                        <a href='https://www.arcgis.com/home/item.html?id=fa467f63e21641869a272b584ad0b047' target='_blank'><b>Minneapolis_1858</b>\n",
       "                        </a>\n",
       "                        <br/>Map from Hennepin History Museum<img src='https://www.arcgis.com/home/js/jsapi/esri/css/images/item_type_icons/maps16.png' style=\"vertical-align:middle;\">Web Map by mapref_UMN\n",
       "                        <br/>Last Modified: May 19, 2016\n",
       "                        <br/>0 comments, 7,739 views\n",
       "                    </div>\n",
       "                </div>\n",
       "                "
      ],
      "text/plain": [
       "<Item title:\"Minneapolis_1858\" type:Web Map owner:mapref_UMN>"
      ]
     },
     "metadata": {},
     "output_type": "display_data"
    },
    {
     "data": {
      "text/html": [
       "<div class=\"item_container\" style=\"height: auto; overflow: hidden; border: 1px solid #cfcfcf; border-radius: 2px; background: #f6fafa; line-height: 1.21429em; padding: 10px;\">\n",
       "                    <div class=\"item_left\" style=\"width: 210px; float: left;\">\n",
       "                       <a href='https://www.arcgis.com/home/item.html?id=d990d842c6f045b4808cc83db72daa7a' target='_blank'>\n",
       "                        <img src='http://static.arcgis.com/images/desktopapp.png' class=\"itemThumbnail\">\n",
       "                       </a>\n",
       "                    </div>\n",
       "\n",
       "                    <div class=\"item_right\"     style=\"float: none; width: auto; overflow: hidden;\">\n",
       "                        <a href='https://www.arcgis.com/home/item.html?id=d990d842c6f045b4808cc83db72daa7a' target='_blank'><b>Twin Cities Historic Aerials-copy</b>\n",
       "                        </a>\n",
       "                        <br/><img src='https://www.arcgis.com/home/js/jsapi/esri/css/images/item_type_icons/layers16.png' style=\"vertical-align:middle;\">Code Attachment by mapref_UMN\n",
       "                        <br/>Last Modified: May 19, 2016\n",
       "                        <br/>0 comments, 0 views\n",
       "                    </div>\n",
       "                </div>\n",
       "                "
      ],
      "text/plain": [
       "<Item title:\"Twin Cities Historic Aerials-copy\" type:Code Attachment owner:mapref_UMN>"
      ]
     },
     "metadata": {},
     "output_type": "display_data"
    },
    {
     "data": {
      "text/html": [
       "<div class=\"item_container\" style=\"height: auto; overflow: hidden; border: 1px solid #cfcfcf; border-radius: 2px; background: #f6fafa; line-height: 1.21429em; padding: 10px;\">\n",
       "                    <div class=\"item_left\" style=\"width: 210px; float: left;\">\n",
       "                       <a href='https://www.arcgis.com/home/item.html?id=1ac8f547f07c408ebe873b3ae509914a' target='_blank'>\n",
       "                        <img src='http://static.arcgis.com/images/desktopapp.png' class=\"itemThumbnail\">\n",
       "                       </a>\n",
       "                    </div>\n",
       "\n",
       "                    <div class=\"item_right\"     style=\"float: none; width: auto; overflow: hidden;\">\n",
       "                        <a href='https://www.arcgis.com/home/item.html?id=1ac8f547f07c408ebe873b3ae509914a' target='_blank'><b>Twin Cities 1888</b>\n",
       "                        </a>\n",
       "                        <br/><img src='https://www.arcgis.com/home/js/jsapi/esri/css/images/item_type_icons/layers16.png' style=\"vertical-align:middle;\">Code Attachment by mapref_UMN\n",
       "                        <br/>Last Modified: May 11, 2017\n",
       "                        <br/>0 comments, 0 views\n",
       "                    </div>\n",
       "                </div>\n",
       "                "
      ],
      "text/plain": [
       "<Item title:\"Twin Cities 1888\" type:Code Attachment owner:mapref_UMN>"
      ]
     },
     "metadata": {},
     "output_type": "display_data"
    },
    {
     "data": {
      "text/html": [
       "<div class=\"item_container\" style=\"height: auto; overflow: hidden; border: 1px solid #cfcfcf; border-radius: 2px; background: #f6fafa; line-height: 1.21429em; padding: 10px;\">\n",
       "                    <div class=\"item_left\" style=\"width: 210px; float: left;\">\n",
       "                       <a href='https://www.arcgis.com/home/item.html?id=298567402d8b46c5ae105be4e2ecafdf' target='_blank'>\n",
       "                        <img src='https://www.arcgis.com/sharing/rest//content/items/298567402d8b46c5ae105be4e2ecafdf/info/thumbnail/ago_downloaded.png' class=\"itemThumbnail\">\n",
       "                       </a>\n",
       "                    </div>\n",
       "\n",
       "                    <div class=\"item_right\"     style=\"float: none; width: auto; overflow: hidden;\">\n",
       "                        <a href='https://www.arcgis.com/home/item.html?id=298567402d8b46c5ae105be4e2ecafdf' target='_blank'><b>Minnesota Wild Rice - Lakes & Rivers</b>\n",
       "                        </a>\n",
       "                        <br/><img src='https://www.arcgis.com/home/js/jsapi/esri/css/images/item_type_icons/maps16.png' style=\"vertical-align:middle;\">Web Map by mapref_UMN\n",
       "                        <br/>Last Modified: January 11, 2018\n",
       "                        <br/>0 comments, 47 views\n",
       "                    </div>\n",
       "                </div>\n",
       "                "
      ],
      "text/plain": [
       "<Item title:\"Minnesota Wild Rice - Lakes & Rivers\" type:Web Map owner:mapref_UMN>"
      ]
     },
     "metadata": {},
     "output_type": "display_data"
    },
    {
     "data": {
      "text/html": [
       "<div class=\"item_container\" style=\"height: auto; overflow: hidden; border: 1px solid #cfcfcf; border-radius: 2px; background: #f6fafa; line-height: 1.21429em; padding: 10px;\">\n",
       "                    <div class=\"item_left\" style=\"width: 210px; float: left;\">\n",
       "                       <a href='https://www.arcgis.com/home/item.html?id=927749801cc84d7d97c2b54112444857' target='_blank'>\n",
       "                        <img src='https://www.arcgis.com/sharing/rest//content/items/927749801cc84d7d97c2b54112444857/info/thumbnail/ago_downloaded.png' class=\"itemThumbnail\">\n",
       "                       </a>\n",
       "                    </div>\n",
       "\n",
       "                    <div class=\"item_right\"     style=\"float: none; width: auto; overflow: hidden;\">\n",
       "                        <a href='https://www.arcgis.com/home/item.html?id=927749801cc84d7d97c2b54112444857' target='_blank'><b>Lost Waters (Original Land Survey - Surface Water)</b>\n",
       "                        </a>\n",
       "                        <br/>Surface water features as shown on the Original Public Land Survey Maps, 1848 - 1885.<img src='https://www.arcgis.com/home/js/jsapi/esri/css/images/item_type_icons/maps16.png' style=\"vertical-align:middle;\">Web Map by mapref_UMN\n",
       "                        <br/>Last Modified: November 19, 2018\n",
       "                        <br/>0 comments, 797 views\n",
       "                    </div>\n",
       "                </div>\n",
       "                "
      ],
      "text/plain": [
       "<Item title:\"Lost Waters (Original Land Survey - Surface Water)\" type:Web Map owner:mapref_UMN>"
      ]
     },
     "metadata": {},
     "output_type": "display_data"
    },
    {
     "data": {
      "text/html": [
       "<div class=\"item_container\" style=\"height: auto; overflow: hidden; border: 1px solid #cfcfcf; border-radius: 2px; background: #f6fafa; line-height: 1.21429em; padding: 10px;\">\n",
       "                    <div class=\"item_left\" style=\"width: 210px; float: left;\">\n",
       "                       <a href='https://www.arcgis.com/home/item.html?id=753d1627642340908e863d804521d0c0' target='_blank'>\n",
       "                        <img src='https://www.arcgis.com/sharing/rest//content/items/753d1627642340908e863d804521d0c0/info/thumbnail/thumbnail.png' class=\"itemThumbnail\">\n",
       "                       </a>\n",
       "                    </div>\n",
       "\n",
       "                    <div class=\"item_right\"     style=\"float: none; width: auto; overflow: hidden;\">\n",
       "                        <a href='https://www.arcgis.com/home/item.html?id=753d1627642340908e863d804521d0c0' target='_blank'><b>Original_Vegetation_Minnesota</b>\n",
       "                        </a>\n",
       "                        <br/>Original Vegetation of Minnesota<img src='https://www.arcgis.com/home/js/jsapi/esri/css/images/item_type_icons/mapimages16.png' style=\"vertical-align:middle;\">Map Image Layer by mapref_UMN\n",
       "                        <br/>Last Modified: November 19, 2018\n",
       "                        <br/>0 comments, 1,968 views\n",
       "                    </div>\n",
       "                </div>\n",
       "                "
      ],
      "text/plain": [
       "<Item title:\"Original_Vegetation_Minnesota\" type:Map Image Layer owner:mapref_UMN>"
      ]
     },
     "metadata": {},
     "output_type": "display_data"
    },
    {
     "data": {
      "text/html": [
       "<div class=\"item_container\" style=\"height: auto; overflow: hidden; border: 1px solid #cfcfcf; border-radius: 2px; background: #f6fafa; line-height: 1.21429em; padding: 10px;\">\n",
       "                    <div class=\"item_left\" style=\"width: 210px; float: left;\">\n",
       "                       <a href='https://www.arcgis.com/home/item.html?id=b6f37aa28b2843aebde15e069756be39' target='_blank'>\n",
       "                        <img src='https://www.arcgis.com/sharing/rest//content/items/b6f37aa28b2843aebde15e069756be39/info/thumbnail/ago_downloaded.png' class=\"itemThumbnail\">\n",
       "                       </a>\n",
       "                    </div>\n",
       "\n",
       "                    <div class=\"item_right\"     style=\"float: none; width: auto; overflow: hidden;\">\n",
       "                        <a href='https://www.arcgis.com/home/item.html?id=b6f37aa28b2843aebde15e069756be39' target='_blank'><b>Twin Cities Historical Aerial Mosaic (map)</b>\n",
       "                        </a>\n",
       "                        <br/><img src='https://www.arcgis.com/home/js/jsapi/esri/css/images/item_type_icons/maps16.png' style=\"vertical-align:middle;\">Web Map by mapref_UMN\n",
       "                        <br/>Last Modified: December 11, 2018\n",
       "                        <br/>0 comments, 3,043 views\n",
       "                    </div>\n",
       "                </div>\n",
       "                "
      ],
      "text/plain": [
       "<Item title:\"Twin Cities Historical Aerial Mosaic (map)\" type:Web Map owner:mapref_UMN>"
      ]
     },
     "metadata": {},
     "output_type": "display_data"
    },
    {
     "data": {
      "text/html": [
       "<div class=\"item_container\" style=\"height: auto; overflow: hidden; border: 1px solid #cfcfcf; border-radius: 2px; background: #f6fafa; line-height: 1.21429em; padding: 10px;\">\n",
       "                    <div class=\"item_left\" style=\"width: 210px; float: left;\">\n",
       "                       <a href='https://www.arcgis.com/home/item.html?id=2d3dd8421ba540a4a98049063f694188' target='_blank'>\n",
       "                        <img src='http://static.arcgis.com/images/desktopapp.png' class=\"itemThumbnail\">\n",
       "                       </a>\n",
       "                    </div>\n",
       "\n",
       "                    <div class=\"item_right\"     style=\"float: none; width: auto; overflow: hidden;\">\n",
       "                        <a href='https://www.arcgis.com/home/item.html?id=2d3dd8421ba540a4a98049063f694188' target='_blank'><b>Minnehaha Parkway Improvement Plan (1912)</b>\n",
       "                        </a>\n",
       "                        <br/><img src='https://www.arcgis.com/home/js/jsapi/esri/css/images/item_type_icons/layers16.png' style=\"vertical-align:middle;\">Code Attachment by mapref_UMN\n",
       "                        <br/>Last Modified: November 19, 2018\n",
       "                        <br/>0 comments, 0 views\n",
       "                    </div>\n",
       "                </div>\n",
       "                "
      ],
      "text/plain": [
       "<Item title:\"Minnehaha Parkway Improvement Plan (1912)\" type:Code Attachment owner:mapref_UMN>"
      ]
     },
     "metadata": {},
     "output_type": "display_data"
    },
    {
     "data": {
      "text/html": [
       "<div class=\"item_container\" style=\"height: auto; overflow: hidden; border: 1px solid #cfcfcf; border-radius: 2px; background: #f6fafa; line-height: 1.21429em; padding: 10px;\">\n",
       "                    <div class=\"item_left\" style=\"width: 210px; float: left;\">\n",
       "                       <a href='https://www.arcgis.com/home/item.html?id=da30e192849c4a289ac5ab9ea11e6d21' target='_blank'>\n",
       "                        <img src='https://www.arcgis.com/sharing/rest//content/items/da30e192849c4a289ac5ab9ea11e6d21/info/thumbnail/ago_downloaded.png' class=\"itemThumbnail\">\n",
       "                       </a>\n",
       "                    </div>\n",
       "\n",
       "                    <div class=\"item_right\"     style=\"float: none; width: auto; overflow: hidden;\">\n",
       "                        <a href='https://www.arcgis.com/home/item.html?id=da30e192849c4a289ac5ab9ea11e6d21' target='_blank'><b>Minnehaha Parkway Improvement Plan (1912)</b>\n",
       "                        </a>\n",
       "                        <br/>Minnehaha Parkway Improvement Plan (1912)<img src='https://www.arcgis.com/home/js/jsapi/esri/css/images/item_type_icons/layers16.png' style=\"vertical-align:middle;\">Web Mapping Application by mapref_UMN\n",
       "                        <br/>Last Modified: November 19, 2018\n",
       "                        <br/>0 comments, 182 views\n",
       "                    </div>\n",
       "                </div>\n",
       "                "
      ],
      "text/plain": [
       "<Item title:\"Minnehaha Parkway Improvement Plan (1912)\" type:Web Mapping Application owner:mapref_UMN>"
      ]
     },
     "metadata": {},
     "output_type": "display_data"
    },
    {
     "data": {
      "text/html": [
       "<div class=\"item_container\" style=\"height: auto; overflow: hidden; border: 1px solid #cfcfcf; border-radius: 2px; background: #f6fafa; line-height: 1.21429em; padding: 10px;\">\n",
       "                    <div class=\"item_left\" style=\"width: 210px; float: left;\">\n",
       "                       <a href='https://www.arcgis.com/home/item.html?id=68c48a053cac433b9b50c0d45c1a3e23' target='_blank'>\n",
       "                        <img src='https://www.arcgis.com/sharing/rest//content/items/68c48a053cac433b9b50c0d45c1a3e23/info/thumbnail/ago_downloaded.png' class=\"itemThumbnail\">\n",
       "                       </a>\n",
       "                    </div>\n",
       "\n",
       "                    <div class=\"item_right\"     style=\"float: none; width: auto; overflow: hidden;\">\n",
       "                        <a href='https://www.arcgis.com/home/item.html?id=68c48a053cac433b9b50c0d45c1a3e23' target='_blank'><b>Film Fest Database 2019</b>\n",
       "                        </a>\n",
       "                        <br/><img src='https://www.arcgis.com/home/js/jsapi/esri/css/images/item_type_icons/featureshosted16.png' style=\"vertical-align:middle;\">Feature Layer Collection by mapref_UMN\n",
       "                        <br/>Last Modified: August 16, 2019\n",
       "                        <br/>0 comments, 24 views\n",
       "                    </div>\n",
       "                </div>\n",
       "                "
      ],
      "text/plain": [
       "<Item title:\"Film Fest Database 2019\" type:Feature Layer Collection owner:mapref_UMN>"
      ]
     },
     "metadata": {},
     "output_type": "display_data"
    },
    {
     "data": {
      "text/html": [
       "<div class=\"item_container\" style=\"height: auto; overflow: hidden; border: 1px solid #cfcfcf; border-radius: 2px; background: #f6fafa; line-height: 1.21429em; padding: 10px;\">\n",
       "                    <div class=\"item_left\" style=\"width: 210px; float: left;\">\n",
       "                       <a href='https://www.arcgis.com/home/item.html?id=1c240f3618d04a24aaf448fd2eaa7788' target='_blank'>\n",
       "                        <img src='https://www.arcgis.com/sharing/rest//content/items/1c240f3618d04a24aaf448fd2eaa7788/info/thumbnail/ago_downloaded.png' class=\"itemThumbnail\">\n",
       "                       </a>\n",
       "                    </div>\n",
       "\n",
       "                    <div class=\"item_right\"     style=\"float: none; width: auto; overflow: hidden;\">\n",
       "                        <a href='https://www.arcgis.com/home/item.html?id=1c240f3618d04a24aaf448fd2eaa7788' target='_blank'><b>An Underground History of the Minneapolis Riverfront</b>\n",
       "                        </a>\n",
       "                        <br/><img src='https://www.arcgis.com/home/js/jsapi/esri/css/images/item_type_icons/layers16.png' style=\"vertical-align:middle;\">Web Mapping Application by mapref_UMN\n",
       "                        <br/>Last Modified: April 26, 2021\n",
       "                        <br/>0 comments, 4,379 views\n",
       "                    </div>\n",
       "                </div>\n",
       "                "
      ],
      "text/plain": [
       "<Item title:\"An Underground History of the Minneapolis Riverfront\" type:Web Mapping Application owner:mapref_UMN>"
      ]
     },
     "metadata": {},
     "output_type": "display_data"
    },
    {
     "data": {
      "text/html": [
       "<div class=\"item_container\" style=\"height: auto; overflow: hidden; border: 1px solid #cfcfcf; border-radius: 2px; background: #f6fafa; line-height: 1.21429em; padding: 10px;\">\n",
       "                    <div class=\"item_left\" style=\"width: 210px; float: left;\">\n",
       "                       <a href='https://www.arcgis.com/home/item.html?id=0519d8a3ab894e09ade9d2714606675e' target='_blank'>\n",
       "                        <img src='https://www.arcgis.com/sharing/rest//content/items/0519d8a3ab894e09ade9d2714606675e/info/thumbnail/ago_downloaded.png' class=\"itemThumbnail\">\n",
       "                       </a>\n",
       "                    </div>\n",
       "\n",
       "                    <div class=\"item_right\"     style=\"float: none; width: auto; overflow: hidden;\">\n",
       "                        <a href='https://www.arcgis.com/home/item.html?id=0519d8a3ab894e09ade9d2714606675e' target='_blank'><b>PurpleMap-Recording Locations</b>\n",
       "                        </a>\n",
       "                        <br/><img src='https://www.arcgis.com/home/js/jsapi/esri/css/images/item_type_icons/maps16.png' style=\"vertical-align:middle;\">Web Map by mapref_UMN\n",
       "                        <br/>Last Modified: November 19, 2018\n",
       "                        <br/>0 comments, 1,695 views\n",
       "                    </div>\n",
       "                </div>\n",
       "                "
      ],
      "text/plain": [
       "<Item title:\"PurpleMap-Recording Locations\" type:Web Map owner:mapref_UMN>"
      ]
     },
     "metadata": {},
     "output_type": "display_data"
    },
    {
     "data": {
      "text/html": [
       "<div class=\"item_container\" style=\"height: auto; overflow: hidden; border: 1px solid #cfcfcf; border-radius: 2px; background: #f6fafa; line-height: 1.21429em; padding: 10px;\">\n",
       "                    <div class=\"item_left\" style=\"width: 210px; float: left;\">\n",
       "                       <a href='https://www.arcgis.com/home/item.html?id=4b4f4ac549094ca0ab766068138f7f54' target='_blank'>\n",
       "                        <img src='https://www.arcgis.com/sharing/rest//content/items/4b4f4ac549094ca0ab766068138f7f54/info/thumbnail/ago_downloaded.png' class=\"itemThumbnail\">\n",
       "                       </a>\n",
       "                    </div>\n",
       "\n",
       "                    <div class=\"item_right\"     style=\"float: none; width: auto; overflow: hidden;\">\n",
       "                        <a href='https://www.arcgis.com/home/item.html?id=4b4f4ac549094ca0ab766068138f7f54' target='_blank'><b>Minnesota Aerial Imagery 2019</b>\n",
       "                        </a>\n",
       "                        <br/><img src='https://www.arcgis.com/home/js/jsapi/esri/css/images/item_type_icons/layers16.png' style=\"vertical-align:middle;\">Web Mapping Application by mapref_UMN\n",
       "                        <br/>Last Modified: October 12, 2020\n",
       "                        <br/>0 comments, 200 views\n",
       "                    </div>\n",
       "                </div>\n",
       "                "
      ],
      "text/plain": [
       "<Item title:\"Minnesota Aerial Imagery 2019\" type:Web Mapping Application owner:mapref_UMN>"
      ]
     },
     "metadata": {},
     "output_type": "display_data"
    },
    {
     "data": {
      "text/html": [
       "<div class=\"item_container\" style=\"height: auto; overflow: hidden; border: 1px solid #cfcfcf; border-radius: 2px; background: #f6fafa; line-height: 1.21429em; padding: 10px;\">\n",
       "                    <div class=\"item_left\" style=\"width: 210px; float: left;\">\n",
       "                       <a href='https://www.arcgis.com/home/item.html?id=712b66b86b724af7b0e9bd5922bed09b' target='_blank'>\n",
       "                        <img src='http://static.arcgis.com/images/desktopapp.png' class=\"itemThumbnail\">\n",
       "                       </a>\n",
       "                    </div>\n",
       "\n",
       "                    <div class=\"item_right\"     style=\"float: none; width: auto; overflow: hidden;\">\n",
       "                        <a href='https://www.arcgis.com/home/item.html?id=712b66b86b724af7b0e9bd5922bed09b' target='_blank'><b>Twin Cities Historical Aerial Mosaic - Rondo Focus</b>\n",
       "                        </a>\n",
       "                        <br/><img src='https://www.arcgis.com/home/js/jsapi/esri/css/images/item_type_icons/layers16.png' style=\"vertical-align:middle;\">Code Attachment by mapref_UMN\n",
       "                        <br/>Last Modified: September 24, 2018\n",
       "                        <br/>0 comments, 3 views\n",
       "                    </div>\n",
       "                </div>\n",
       "                "
      ],
      "text/plain": [
       "<Item title:\"Twin Cities Historical Aerial Mosaic - Rondo Focus\" type:Code Attachment owner:mapref_UMN>"
      ]
     },
     "metadata": {},
     "output_type": "display_data"
    },
    {
     "data": {
      "text/html": [
       "<div class=\"item_container\" style=\"height: auto; overflow: hidden; border: 1px solid #cfcfcf; border-radius: 2px; background: #f6fafa; line-height: 1.21429em; padding: 10px;\">\n",
       "                    <div class=\"item_left\" style=\"width: 210px; float: left;\">\n",
       "                       <a href='https://www.arcgis.com/home/item.html?id=7126f16dc6644483a2b914143ac6635a' target='_blank'>\n",
       "                        <img src='https://www.arcgis.com/sharing/rest//content/items/7126f16dc6644483a2b914143ac6635a/info/thumbnail/ago_downloaded.png' class=\"itemThumbnail\">\n",
       "                       </a>\n",
       "                    </div>\n",
       "\n",
       "                    <div class=\"item_right\"     style=\"float: none; width: auto; overflow: hidden;\">\n",
       "                        <a href='https://www.arcgis.com/home/item.html?id=7126f16dc6644483a2b914143ac6635a' target='_blank'><b>Minnehaha Parkway Improvement Plan (1912)</b>\n",
       "                        </a>\n",
       "                        <br/>Minnehaha Parkway Improvement Plan (1912)<img src='https://www.arcgis.com/home/js/jsapi/esri/css/images/item_type_icons/maps16.png' style=\"vertical-align:middle;\">Web Map by mapref_UMN\n",
       "                        <br/>Last Modified: November 19, 2018\n",
       "                        <br/>0 comments, 211 views\n",
       "                    </div>\n",
       "                </div>\n",
       "                "
      ],
      "text/plain": [
       "<Item title:\"Minnehaha Parkway Improvement Plan (1912)\" type:Web Map owner:mapref_UMN>"
      ]
     },
     "metadata": {},
     "output_type": "display_data"
    },
    {
     "data": {
      "text/html": [
       "<div class=\"item_container\" style=\"height: auto; overflow: hidden; border: 1px solid #cfcfcf; border-radius: 2px; background: #f6fafa; line-height: 1.21429em; padding: 10px;\">\n",
       "                    <div class=\"item_left\" style=\"width: 210px; float: left;\">\n",
       "                       <a href='https://www.arcgis.com/home/item.html?id=9c1860a68d164872ab2c99493158a856' target='_blank'>\n",
       "                        <img src='https://www.arcgis.com/sharing/rest//content/items/9c1860a68d164872ab2c99493158a856/info/thumbnail/ago_downloaded.png' class=\"itemThumbnail\">\n",
       "                       </a>\n",
       "                    </div>\n",
       "\n",
       "                    <div class=\"item_right\"     style=\"float: none; width: auto; overflow: hidden;\">\n",
       "                        <a href='https://www.arcgis.com/home/item.html?id=9c1860a68d164872ab2c99493158a856' target='_blank'><b>Twin Cities 1888</b>\n",
       "                        </a>\n",
       "                        <br/><img src='https://www.arcgis.com/home/js/jsapi/esri/css/images/item_type_icons/layers16.png' style=\"vertical-align:middle;\">Web Mapping Application by mapref_UMN\n",
       "                        <br/>Last Modified: May 11, 2017\n",
       "                        <br/>0 comments, 160 views\n",
       "                    </div>\n",
       "                </div>\n",
       "                "
      ],
      "text/plain": [
       "<Item title:\"Twin Cities 1888\" type:Web Mapping Application owner:mapref_UMN>"
      ]
     },
     "metadata": {},
     "output_type": "display_data"
    },
    {
     "data": {
      "text/html": [
       "<div class=\"item_container\" style=\"height: auto; overflow: hidden; border: 1px solid #cfcfcf; border-radius: 2px; background: #f6fafa; line-height: 1.21429em; padding: 10px;\">\n",
       "                    <div class=\"item_left\" style=\"width: 210px; float: left;\">\n",
       "                       <a href='https://www.arcgis.com/home/item.html?id=cc10317f462e4f4680eb36e74b628d84' target='_blank'>\n",
       "                        <img src='https://www.arcgis.com/sharing/rest//content/items/cc10317f462e4f4680eb36e74b628d84/info/thumbnail/ago_downloaded.png' class=\"itemThumbnail\">\n",
       "                       </a>\n",
       "                    </div>\n",
       "\n",
       "                    <div class=\"item_right\"     style=\"float: none; width: auto; overflow: hidden;\">\n",
       "                        <a href='https://www.arcgis.com/home/item.html?id=cc10317f462e4f4680eb36e74b628d84' target='_blank'><b>PurpleMap-Other</b>\n",
       "                        </a>\n",
       "                        <br/><img src='https://www.arcgis.com/home/js/jsapi/esri/css/images/item_type_icons/maps16.png' style=\"vertical-align:middle;\">Web Map by mapref_UMN\n",
       "                        <br/>Last Modified: November 19, 2018\n",
       "                        <br/>0 comments, 255 views\n",
       "                    </div>\n",
       "                </div>\n",
       "                "
      ],
      "text/plain": [
       "<Item title:\"PurpleMap-Other\" type:Web Map owner:mapref_UMN>"
      ]
     },
     "metadata": {},
     "output_type": "display_data"
    },
    {
     "data": {
      "text/html": [
       "<div class=\"item_container\" style=\"height: auto; overflow: hidden; border: 1px solid #cfcfcf; border-radius: 2px; background: #f6fafa; line-height: 1.21429em; padding: 10px;\">\n",
       "                    <div class=\"item_left\" style=\"width: 210px; float: left;\">\n",
       "                       <a href='https://www.arcgis.com/home/item.html?id=64891cc29420495ebb16fe18267f2acf' target='_blank'>\n",
       "                        <img src='https://www.arcgis.com/sharing/rest//content/items/64891cc29420495ebb16fe18267f2acf/info/thumbnail/thumbnail1524681738423.png' class=\"itemThumbnail\">\n",
       "                       </a>\n",
       "                    </div>\n",
       "\n",
       "                    <div class=\"item_right\"     style=\"float: none; width: auto; overflow: hidden;\">\n",
       "                        <a href='https://www.arcgis.com/home/item.html?id=64891cc29420495ebb16fe18267f2acf' target='_blank'><b>Purple Map</b>\n",
       "                        </a>\n",
       "                        <br/><img src='https://www.arcgis.com/home/js/jsapi/esri/css/images/item_type_icons/layers16.png' style=\"vertical-align:middle;\">Web Mapping Application by mapref_UMN\n",
       "                        <br/>Last Modified: September 23, 2019\n",
       "                        <br/>0 comments, 2,209 views\n",
       "                    </div>\n",
       "                </div>\n",
       "                "
      ],
      "text/plain": [
       "<Item title:\"Purple Map\" type:Web Mapping Application owner:mapref_UMN>"
      ]
     },
     "metadata": {},
     "output_type": "display_data"
    },
    {
     "data": {
      "text/html": [
       "<div class=\"item_container\" style=\"height: auto; overflow: hidden; border: 1px solid #cfcfcf; border-radius: 2px; background: #f6fafa; line-height: 1.21429em; padding: 10px;\">\n",
       "                    <div class=\"item_left\" style=\"width: 210px; float: left;\">\n",
       "                       <a href='https://www.arcgis.com/home/item.html?id=d751dfb680cb4c14879ed2f353af97ae' target='_blank'>\n",
       "                        <img src='https://www.arcgis.com/sharing/rest//content/items/d751dfb680cb4c14879ed2f353af97ae/info/thumbnail/ago_downloaded.png' class=\"itemThumbnail\">\n",
       "                       </a>\n",
       "                    </div>\n",
       "\n",
       "                    <div class=\"item_right\"     style=\"float: none; width: auto; overflow: hidden;\">\n",
       "                        <a href='https://www.arcgis.com/home/item.html?id=d751dfb680cb4c14879ed2f353af97ae' target='_blank'><b>Geography Of Prince - Purple Map Locations</b>\n",
       "                        </a>\n",
       "                        <br/><img src='https://www.arcgis.com/home/js/jsapi/esri/css/images/item_type_icons/features16.png' style=\"vertical-align:middle;\">Feature Collection by mapref_UMN\n",
       "                        <br/>Last Modified: November 19, 2018\n",
       "                        <br/>0 comments, 16 views\n",
       "                    </div>\n",
       "                </div>\n",
       "                "
      ],
      "text/plain": [
       "<Item title:\"Geography Of Prince - Purple Map Locations\" type:Feature Collection owner:mapref_UMN>"
      ]
     },
     "metadata": {},
     "output_type": "display_data"
    },
    {
     "data": {
      "text/html": [
       "<div class=\"item_container\" style=\"height: auto; overflow: hidden; border: 1px solid #cfcfcf; border-radius: 2px; background: #f6fafa; line-height: 1.21429em; padding: 10px;\">\n",
       "                    <div class=\"item_left\" style=\"width: 210px; float: left;\">\n",
       "                       <a href='https://www.arcgis.com/home/item.html?id=437cc642bd4648d6ac245db3a66f492f' target='_blank'>\n",
       "                        <img src='https://www.arcgis.com/sharing/rest//content/items/437cc642bd4648d6ac245db3a66f492f/info/thumbnail/ago_downloaded.png' class=\"itemThumbnail\">\n",
       "                       </a>\n",
       "                    </div>\n",
       "\n",
       "                    <div class=\"item_right\"     style=\"float: none; width: auto; overflow: hidden;\">\n",
       "                        <a href='https://www.arcgis.com/home/item.html?id=437cc642bd4648d6ac245db3a66f492f' target='_blank'><b>1966 Twin Cities Historical Aerial Photograph Mosaic</b>\n",
       "                        </a>\n",
       "                        <br/><img src='https://www.arcgis.com/home/js/jsapi/esri/css/images/item_type_icons/layers16.png' style=\"vertical-align:middle;\">Web Mapping Application by mapref_UMN\n",
       "                        <br/>Last Modified: May 23, 2017\n",
       "                        <br/>0 comments, 155 views\n",
       "                    </div>\n",
       "                </div>\n",
       "                "
      ],
      "text/plain": [
       "<Item title:\"1966 Twin Cities Historical Aerial Photograph Mosaic\" type:Web Mapping Application owner:mapref_UMN>"
      ]
     },
     "metadata": {},
     "output_type": "display_data"
    },
    {
     "data": {
      "text/html": [
       "<div class=\"item_container\" style=\"height: auto; overflow: hidden; border: 1px solid #cfcfcf; border-radius: 2px; background: #f6fafa; line-height: 1.21429em; padding: 10px;\">\n",
       "                    <div class=\"item_left\" style=\"width: 210px; float: left;\">\n",
       "                       <a href='https://www.arcgis.com/home/item.html?id=2b8b059815a34939843f6b401c072de0' target='_blank'>\n",
       "                        <img src='https://www.arcgis.com/sharing/rest//content/items/2b8b059815a34939843f6b401c072de0/info/thumbnail/ago_downloaded.png' class=\"itemThumbnail\">\n",
       "                       </a>\n",
       "                    </div>\n",
       "\n",
       "                    <div class=\"item_right\"     style=\"float: none; width: auto; overflow: hidden;\">\n",
       "                        <a href='https://www.arcgis.com/home/item.html?id=2b8b059815a34939843f6b401c072de0' target='_blank'><b>Nicollet 1843</b>\n",
       "                        </a>\n",
       "                        <br/>Hydrographical Basin of the Upper Mississippi River (1843)<img src='https://www.arcgis.com/home/js/jsapi/esri/css/images/item_type_icons/maps16.png' style=\"vertical-align:middle;\">Web Map by mapref_UMN\n",
       "                        <br/>Last Modified: November 19, 2018\n",
       "                        <br/>0 comments, 152 views\n",
       "                    </div>\n",
       "                </div>\n",
       "                "
      ],
      "text/plain": [
       "<Item title:\"Nicollet 1843\" type:Web Map owner:mapref_UMN>"
      ]
     },
     "metadata": {},
     "output_type": "display_data"
    },
    {
     "data": {
      "text/html": [
       "<div class=\"item_container\" style=\"height: auto; overflow: hidden; border: 1px solid #cfcfcf; border-radius: 2px; background: #f6fafa; line-height: 1.21429em; padding: 10px;\">\n",
       "                    <div class=\"item_left\" style=\"width: 210px; float: left;\">\n",
       "                       <a href='https://www.arcgis.com/home/item.html?id=16e401b8279841729060dff3db696911' target='_blank'>\n",
       "                        <img src='https://www.arcgis.com/sharing/rest//content/items/16e401b8279841729060dff3db696911/info/thumbnail/ago_downloaded.png' class=\"itemThumbnail\">\n",
       "                       </a>\n",
       "                    </div>\n",
       "\n",
       "                    <div class=\"item_right\"     style=\"float: none; width: auto; overflow: hidden;\">\n",
       "                        <a href='https://www.arcgis.com/home/item.html?id=16e401b8279841729060dff3db696911' target='_blank'><b>Aerials_1966</b>\n",
       "                        </a>\n",
       "                        <br/><img src='https://www.arcgis.com/home/js/jsapi/esri/css/images/item_type_icons/maps16.png' style=\"vertical-align:middle;\">Web Map by mapref_UMN\n",
       "                        <br/>Last Modified: November 27, 2018\n",
       "                        <br/>0 comments, 181 views\n",
       "                    </div>\n",
       "                </div>\n",
       "                "
      ],
      "text/plain": [
       "<Item title:\"Aerials_1966\" type:Web Map owner:mapref_UMN>"
      ]
     },
     "metadata": {},
     "output_type": "display_data"
    },
    {
     "data": {
      "text/html": [
       "<div class=\"item_container\" style=\"height: auto; overflow: hidden; border: 1px solid #cfcfcf; border-radius: 2px; background: #f6fafa; line-height: 1.21429em; padding: 10px;\">\n",
       "                    <div class=\"item_left\" style=\"width: 210px; float: left;\">\n",
       "                       <a href='https://www.arcgis.com/home/item.html?id=6fd3cbc53db34a23bd7f5eb1471d2239' target='_blank'>\n",
       "                        <img src='https://www.arcgis.com/sharing/rest//content/items/6fd3cbc53db34a23bd7f5eb1471d2239/info/thumbnail/ago_downloaded.png' class=\"itemThumbnail\">\n",
       "                       </a>\n",
       "                    </div>\n",
       "\n",
       "                    <div class=\"item_right\"     style=\"float: none; width: auto; overflow: hidden;\">\n",
       "                        <a href='https://www.arcgis.com/home/item.html?id=6fd3cbc53db34a23bd7f5eb1471d2239' target='_blank'><b>Original Vegetation of Minnesota</b>\n",
       "                        </a>\n",
       "                        <br/>The Original Vegetation of Minnesota<img src='https://www.arcgis.com/home/js/jsapi/esri/css/images/item_type_icons/maps16.png' style=\"vertical-align:middle;\">Web Map by mapref_UMN\n",
       "                        <br/>Last Modified: November 19, 2018\n",
       "                        <br/>0 comments, 90 views\n",
       "                    </div>\n",
       "                </div>\n",
       "                "
      ],
      "text/plain": [
       "<Item title:\"Original Vegetation of Minnesota\" type:Web Map owner:mapref_UMN>"
      ]
     },
     "metadata": {},
     "output_type": "display_data"
    },
    {
     "data": {
      "text/html": [
       "<div class=\"item_container\" style=\"height: auto; overflow: hidden; border: 1px solid #cfcfcf; border-radius: 2px; background: #f6fafa; line-height: 1.21429em; padding: 10px;\">\n",
       "                    <div class=\"item_left\" style=\"width: 210px; float: left;\">\n",
       "                       <a href='https://www.arcgis.com/home/item.html?id=49a00eab2f4e45f0ab8228c85ef6cbe7' target='_blank'>\n",
       "                        <img src='https://www.arcgis.com/sharing/rest//content/items/49a00eab2f4e45f0ab8228c85ef6cbe7/info/thumbnail/ago_downloaded.png' class=\"itemThumbnail\">\n",
       "                       </a>\n",
       "                    </div>\n",
       "\n",
       "                    <div class=\"item_right\"     style=\"float: none; width: auto; overflow: hidden;\">\n",
       "                        <a href='https://www.arcgis.com/home/item.html?id=49a00eab2f4e45f0ab8228c85ef6cbe7' target='_blank'><b>Lost Waters (Original Land Survey - Surface Water)</b>\n",
       "                        </a>\n",
       "                        <br/><img src='https://www.arcgis.com/home/js/jsapi/esri/css/images/item_type_icons/layers16.png' style=\"vertical-align:middle;\">Web Mapping Application by mapref_UMN\n",
       "                        <br/>Last Modified: November 19, 2018\n",
       "                        <br/>0 comments, 59 views\n",
       "                    </div>\n",
       "                </div>\n",
       "                "
      ],
      "text/plain": [
       "<Item title:\"Lost Waters (Original Land Survey - Surface Water)\" type:Web Mapping Application owner:mapref_UMN>"
      ]
     },
     "metadata": {},
     "output_type": "display_data"
    },
    {
     "data": {
      "text/html": [
       "<div class=\"item_container\" style=\"height: auto; overflow: hidden; border: 1px solid #cfcfcf; border-radius: 2px; background: #f6fafa; line-height: 1.21429em; padding: 10px;\">\n",
       "                    <div class=\"item_left\" style=\"width: 210px; float: left;\">\n",
       "                       <a href='https://www.arcgis.com/home/item.html?id=0f5861e86e59439084bf41583135f5e7' target='_blank'>\n",
       "                        <img src='https://www.arcgis.com/sharing/rest//content/items/0f5861e86e59439084bf41583135f5e7/info/thumbnail/ago_downloaded.png' class=\"itemThumbnail\">\n",
       "                       </a>\n",
       "                    </div>\n",
       "\n",
       "                    <div class=\"item_right\"     style=\"float: none; width: auto; overflow: hidden;\">\n",
       "                        <a href='https://www.arcgis.com/home/item.html?id=0f5861e86e59439084bf41583135f5e7' target='_blank'><b>Geography Of Prince _ Purple Map Locations (hosted)</b>\n",
       "                        </a>\n",
       "                        <br/><img src='https://www.arcgis.com/home/js/jsapi/esri/css/images/item_type_icons/featureshosted16.png' style=\"vertical-align:middle;\">Feature Layer Collection by mapref_UMN\n",
       "                        <br/>Last Modified: November 19, 2018\n",
       "                        <br/>0 comments, 7,045 views\n",
       "                    </div>\n",
       "                </div>\n",
       "                "
      ],
      "text/plain": [
       "<Item title:\"Geography Of Prince _ Purple Map Locations (hosted)\" type:Feature Layer Collection owner:mapref_UMN>"
      ]
     },
     "metadata": {},
     "output_type": "display_data"
    },
    {
     "data": {
      "text/html": [
       "<div class=\"item_container\" style=\"height: auto; overflow: hidden; border: 1px solid #cfcfcf; border-radius: 2px; background: #f6fafa; line-height: 1.21429em; padding: 10px;\">\n",
       "                    <div class=\"item_left\" style=\"width: 210px; float: left;\">\n",
       "                       <a href='https://www.arcgis.com/home/item.html?id=454f9efa21c34ceaa076e7d1254d2425' target='_blank'>\n",
       "                        <img src='https://www.arcgis.com/sharing/rest//content/items/454f9efa21c34ceaa076e7d1254d2425/info/thumbnail/ago_downloaded.png' class=\"itemThumbnail\">\n",
       "                       </a>\n",
       "                    </div>\n",
       "\n",
       "                    <div class=\"item_right\"     style=\"float: none; width: auto; overflow: hidden;\">\n",
       "                        <a href='https://www.arcgis.com/home/item.html?id=454f9efa21c34ceaa076e7d1254d2425' target='_blank'><b>PurpleMap-Movie Locations</b>\n",
       "                        </a>\n",
       "                        <br/><img src='https://www.arcgis.com/home/js/jsapi/esri/css/images/item_type_icons/maps16.png' style=\"vertical-align:middle;\">Web Map by mapref_UMN\n",
       "                        <br/>Last Modified: November 19, 2018\n",
       "                        <br/>0 comments, 1,711 views\n",
       "                    </div>\n",
       "                </div>\n",
       "                "
      ],
      "text/plain": [
       "<Item title:\"PurpleMap-Movie Locations\" type:Web Map owner:mapref_UMN>"
      ]
     },
     "metadata": {},
     "output_type": "display_data"
    },
    {
     "data": {
      "text/html": [
       "<div class=\"item_container\" style=\"height: auto; overflow: hidden; border: 1px solid #cfcfcf; border-radius: 2px; background: #f6fafa; line-height: 1.21429em; padding: 10px;\">\n",
       "                    <div class=\"item_left\" style=\"width: 210px; float: left;\">\n",
       "                       <a href='https://www.arcgis.com/home/item.html?id=6755e4e07a7e4463b1dfa49a3c9fa78a' target='_blank'>\n",
       "                        <img src='https://www.arcgis.com/sharing/rest//content/items/6755e4e07a7e4463b1dfa49a3c9fa78a/info/thumbnail/ago_downloaded.png' class=\"itemThumbnail\">\n",
       "                       </a>\n",
       "                    </div>\n",
       "\n",
       "                    <div class=\"item_right\"     style=\"float: none; width: auto; overflow: hidden;\">\n",
       "                        <a href='https://www.arcgis.com/home/item.html?id=6755e4e07a7e4463b1dfa49a3c9fa78a' target='_blank'><b>PurpleMap-Performance Venues</b>\n",
       "                        </a>\n",
       "                        <br/><img src='https://www.arcgis.com/home/js/jsapi/esri/css/images/item_type_icons/maps16.png' style=\"vertical-align:middle;\">Web Map by mapref_UMN\n",
       "                        <br/>Last Modified: November 19, 2018\n",
       "                        <br/>0 comments, 1,701 views\n",
       "                    </div>\n",
       "                </div>\n",
       "                "
      ],
      "text/plain": [
       "<Item title:\"PurpleMap-Performance Venues\" type:Web Map owner:mapref_UMN>"
      ]
     },
     "metadata": {},
     "output_type": "display_data"
    },
    {
     "data": {
      "text/html": [
       "<div class=\"item_container\" style=\"height: auto; overflow: hidden; border: 1px solid #cfcfcf; border-radius: 2px; background: #f6fafa; line-height: 1.21429em; padding: 10px;\">\n",
       "                    <div class=\"item_left\" style=\"width: 210px; float: left;\">\n",
       "                       <a href='https://www.arcgis.com/home/item.html?id=fb1582ae3293431ea4cf1d37afe3f113' target='_blank'>\n",
       "                        <img src='https://www.arcgis.com/sharing/rest//content/items/fb1582ae3293431ea4cf1d37afe3f113/info/thumbnail/ago_downloaded.png' class=\"itemThumbnail\">\n",
       "                       </a>\n",
       "                    </div>\n",
       "\n",
       "                    <div class=\"item_right\"     style=\"float: none; width: auto; overflow: hidden;\">\n",
       "                        <a href='https://www.arcgis.com/home/item.html?id=fb1582ae3293431ea4cf1d37afe3f113' target='_blank'><b>Minneapolis Water Company_1897</b>\n",
       "                        </a>\n",
       "                        <br/><img src='https://www.arcgis.com/home/js/jsapi/esri/css/images/item_type_icons/maps16.png' style=\"vertical-align:middle;\">Web Map by mapref_UMN\n",
       "                        <br/>Last Modified: April 26, 2021\n",
       "                        <br/>0 comments, 4,472 views\n",
       "                    </div>\n",
       "                </div>\n",
       "                "
      ],
      "text/plain": [
       "<Item title:\"Minneapolis Water Company_1897\" type:Web Map owner:mapref_UMN>"
      ]
     },
     "metadata": {},
     "output_type": "display_data"
    },
    {
     "data": {
      "text/html": [
       "<div class=\"item_container\" style=\"height: auto; overflow: hidden; border: 1px solid #cfcfcf; border-radius: 2px; background: #f6fafa; line-height: 1.21429em; padding: 10px;\">\n",
       "                    <div class=\"item_left\" style=\"width: 210px; float: left;\">\n",
       "                       <a href='https://www.arcgis.com/home/item.html?id=dcca7c6495924d28b4f489f5070a25e1' target='_blank'>\n",
       "                        <img src='https://www.arcgis.com/sharing/rest//content/items/dcca7c6495924d28b4f489f5070a25e1/info/thumbnail/ago_downloaded.png' class=\"itemThumbnail\">\n",
       "                       </a>\n",
       "                    </div>\n",
       "\n",
       "                    <div class=\"item_right\"     style=\"float: none; width: auto; overflow: hidden;\">\n",
       "                        <a href='https://www.arcgis.com/home/item.html?id=dcca7c6495924d28b4f489f5070a25e1' target='_blank'><b>Twin Cities Historical Aerial Mosaic</b>\n",
       "                        </a>\n",
       "                        <br/><img src='https://www.arcgis.com/home/js/jsapi/esri/css/images/item_type_icons/layers16.png' style=\"vertical-align:middle;\">Web Mapping Application by mapref_UMN\n",
       "                        <br/>Last Modified: October 26, 2016\n",
       "                        <br/>0 comments, 2,973 views\n",
       "                    </div>\n",
       "                </div>\n",
       "                "
      ],
      "text/plain": [
       "<Item title:\"Twin Cities Historical Aerial Mosaic\" type:Web Mapping Application owner:mapref_UMN>"
      ]
     },
     "metadata": {},
     "output_type": "display_data"
    },
    {
     "data": {
      "text/html": [
       "<div class=\"item_container\" style=\"height: auto; overflow: hidden; border: 1px solid #cfcfcf; border-radius: 2px; background: #f6fafa; line-height: 1.21429em; padding: 10px;\">\n",
       "                    <div class=\"item_left\" style=\"width: 210px; float: left;\">\n",
       "                       <a href='https://www.arcgis.com/home/item.html?id=bf8cd7452b33422e9ec66249d31726b4' target='_blank'>\n",
       "                        <img src='https://www.arcgis.com/sharing/rest//content/items/bf8cd7452b33422e9ec66249d31726b4/info/thumbnail/ago_downloaded.png' class=\"itemThumbnail\">\n",
       "                       </a>\n",
       "                    </div>\n",
       "\n",
       "                    <div class=\"item_right\"     style=\"float: none; width: auto; overflow: hidden;\">\n",
       "                        <a href='https://www.arcgis.com/home/item.html?id=bf8cd7452b33422e9ec66249d31726b4' target='_blank'><b><p></p></b>\n",
       "                        </a>\n",
       "                        <br/><img src='https://www.arcgis.com/home/js/jsapi/esri/css/images/item_type_icons/layers16.png' style=\"vertical-align:middle;\">Web Mapping Application by mapref_UMN\n",
       "                        <br/>Last Modified: November 16, 2018\n",
       "                        <br/>0 comments, 7,533 views\n",
       "                    </div>\n",
       "                </div>\n",
       "                "
      ],
      "text/plain": [
       "<Item title:\"<p></p>\" type:Web Mapping Application owner:mapref_UMN>"
      ]
     },
     "metadata": {},
     "output_type": "display_data"
    },
    {
     "data": {
      "text/html": [
       "<div class=\"item_container\" style=\"height: auto; overflow: hidden; border: 1px solid #cfcfcf; border-radius: 2px; background: #f6fafa; line-height: 1.21429em; padding: 10px;\">\n",
       "                    <div class=\"item_left\" style=\"width: 210px; float: left;\">\n",
       "                       <a href='https://www.arcgis.com/home/item.html?id=687780be6eab4c69968f56631c01f020' target='_blank'>\n",
       "                        <img src='https://www.arcgis.com/sharing/rest//content/items/687780be6eab4c69968f56631c01f020/info/thumbnail/ago_downloaded.png' class=\"itemThumbnail\">\n",
       "                       </a>\n",
       "                    </div>\n",
       "\n",
       "                    <div class=\"item_right\"     style=\"float: none; width: auto; overflow: hidden;\">\n",
       "                        <a href='https://www.arcgis.com/home/item.html?id=687780be6eab4c69968f56631c01f020' target='_blank'><b>Eastman Tunnel</b>\n",
       "                        </a>\n",
       "                        <br/><img src='https://www.arcgis.com/home/js/jsapi/esri/css/images/item_type_icons/maps16.png' style=\"vertical-align:middle;\">Web Map by mapref_UMN\n",
       "                        <br/>Last Modified: May 19, 2016\n",
       "                        <br/>0 comments, 2,775 views\n",
       "                    </div>\n",
       "                </div>\n",
       "                "
      ],
      "text/plain": [
       "<Item title:\"Eastman Tunnel\" type:Web Map owner:mapref_UMN>"
      ]
     },
     "metadata": {},
     "output_type": "display_data"
    }
   ],
   "source": [
    "All_Metadata = []\n",
    "for item in search_result:\n",
    "    ID = item.id\n",
    "    metadata = construct_metadata(ID)\n",
    "    All_Metadata.append(metadata)\n"
   ]
  },
  {
   "cell_type": "markdown",
   "metadata": {},
   "source": [
    "### STEP3. Write to a CSV file"
   ]
  },
  {
   "cell_type": "code",
   "execution_count": 66,
   "metadata": {},
   "outputs": [],
   "source": [
    "fieldnames = ['Title', 'Alternative Title', 'Description', 'Language', 'Creator', 'Resource Class',\n",
    "              'ISO Topic Categories', 'Keyword', 'Date Issued', 'Temporal Coverage', 'Date Range', 'Spatial Coverage',\n",
    "              'Bounding Box', 'Resource Type', 'Format', 'Information', 'Download', 'MapServer',\n",
    "              'FeatureServer', 'ImageServer', 'ID', 'Identifier', 'Provider', 'Code', 'Member Of', 'Status',\n",
    "              'Accrual Method', 'Date Accessioned', 'Rights', 'Access Rights', 'Suppressed', 'Child Record', \"File Size\"]\n",
    "\n",
    "actionDate = time.strftime('%Y%m%d')"
   ]
  },
  {
   "cell_type": "code",
   "execution_count": 68,
   "metadata": {},
   "outputs": [],
   "source": [
    "with open('reports/metadata_{}.csv'.format(actionDate), 'w') as fw:\n",
    "    writer = csv.writer(fw)\n",
    "    writer.writerow(fieldnames)\n",
    "    writer.writerows(All_Metadata)"
   ]
  },
  {
   "cell_type": "code",
   "execution_count": null,
   "metadata": {},
   "outputs": [],
   "source": []
  }
 ],
 "metadata": {
  "kernelspec": {
   "display_name": "Python 3",
   "language": "python",
   "name": "python3"
  },
  "language_info": {
   "codemirror_mode": {
    "name": "ipython",
    "version": 3
   },
   "file_extension": ".py",
   "mimetype": "text/x-python",
   "name": "python",
   "nbconvert_exporter": "python",
   "pygments_lexer": "ipython3",
   "version": "3.7.4"
  }
 },
 "nbformat": 4,
 "nbformat_minor": 2
}
